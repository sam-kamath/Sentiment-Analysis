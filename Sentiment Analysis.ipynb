{
 "cells": [
  {
   "cell_type": "code",
   "execution_count": null,
   "id": "a6c8a8ee",
   "metadata": {},
   "outputs": [],
   "source": [
    "import numpy as np\n",
    "import pandas as pd\n",
    "import matplotlib.pyplot as plt\n",
    "import seaborn as sns\n",
    "import warnings\n",
    "warnings.filterwarnings('ignore')"
   ]
  },
  {
   "cell_type": "code",
   "execution_count": null,
   "id": "edd4ea8b",
   "metadata": {},
   "outputs": [],
   "source": [
    "train=pd.read_csv('Train.csv')\n",
    "test=pd.read_csv('Test.csv')\n",
    "valid=pd.read_csv('Valid.csv')"
   ]
  },
  {
   "cell_type": "code",
   "execution_count": null,
   "id": "ee3cc36c",
   "metadata": {},
   "outputs": [],
   "source": [
    "fig=plt.figure(figsize=(5,5))\n",
    "colors=[\"red\",'yellow']\n",
    "pos=train[train['label']==1]\n",
    "neg=train[train['label']==0]\n",
    "ck=[pos['label'].count(),neg['label'].count()]\n",
    "legpie=plt.pie(ck,labels=[\"Positive\",\"Negative\"],autopct ='%1.1f%%',colors = colors,startangle = 45,explode=(0, 0.1))"
   ]
  },
  {
   "cell_type": "code",
   "execution_count": null,
   "id": "52b5724a",
   "metadata": {},
   "outputs": [],
   "source": [
    "import re\n",
    "def preprocessor(text):\n",
    "    text=re.sub('<[^>]*>','',text)\n",
    "    emojis=re.findall('(?::|;|=)(?:\\)|\\(|D|P)',text)\n",
    "    text=re.sub('[\\W]+',' ',text.lower()) +\\\n",
    "        ' '.join(emojis).replace('-','')\n",
    "    return text\n",
    "train['text']=train['text'].apply(preprocessor)"
   ]
  },
  {
   "cell_type": "code",
   "execution_count": null,
   "id": "8da6eadf",
   "metadata": {},
   "outputs": [],
   "source": [
    "from nltk.stem.porter import PorterStemmer\n",
    "porter=PorterStemmer()\n",
    "\n",
    "def tokenizer(text):\n",
    "    return text.split()\n",
    "def tokenizer_porter(text):\n",
    "    return [porter.stem(word) for word in text.split()]"
   ]
  },
  {
   "cell_type": "code",
   "execution_count": null,
   "id": "6e6f50ff",
   "metadata": {},
   "outputs": [],
   "source": [
    "import nltk\n",
    "nltk.download('stopwords')\n",
    "from nltk.corpus import stopwords\n",
    "stop=stopwords.words('english')\n",
    "\n",
    "from wordcloud import WordCloud\n",
    "positivedata=train[train['label']==1]\n",
    "positivedata=positivedata['text']\n",
    "negdata=train[train['label']==0]\n",
    "negdata=negdata['text']\n",
    "\n",
    "def wordcloud_draw(train,color='white'):\n",
    "    words=' '.join(train)\n",
    "    cleaned_word=\" \".join([word for word in words.split() if(word!='movie' and word!='film')])\n",
    "    \n",
    "    wordcloud=WordCloud(stopwords=stop,background_color=color,width=2500,height=2000).generate(cleaned_word)\n",
    "    \n",
    "    plt.figure(1,figsize=(10,7))\n",
    "    plt.inshow(wordcloud)\n",
    "    plt.axis('off')\n",
    "    plt.show()\n",
    "    \n",
    "print('Positive words are as follows')\n",
    "wordcloud_draw(positivedata,'red')\n",
    "print('Negative words are as follows')\n",
    "wordcloud_draw(negdata)"
   ]
  },
  {
   "cell_type": "code",
   "execution_count": null,
   "id": "524bb5b4",
   "metadata": {},
   "outputs": [],
   "source": [
    "from sklearn.feature_extraction.text import TfidfVectorizer\n",
    "tfidf=TfidfVectorizer(strip_accents=None,lowercase=False,preprocessor=None,tokenizer=tokenizer_porter,use_idf=True,norm='l2',smooth_idf=True)\n",
    "y=train.label.values\n",
    "x=tfidf.fit_transform(train.text)"
   ]
  },
  {
   "cell_type": "code",
   "execution_count": null,
   "id": "3e14b4eb",
   "metadata": {},
   "outputs": [],
   "source": [
    "from sklearn.model_selection import train_test_split\n",
    "x_train,x_test,y_train,y_test=train_test_split(x,y,random_state=1test_size=0.5,shuffle=False)"
   ]
  },
  {
   "cell_type": "code",
   "execution_count": null,
   "id": "cfe6cc3c",
   "metadata": {},
   "outputs": [],
   "source": [
    "from sklearn.linear_model import LogisticRegressionCV\n",
    "clf=LogisticRegressionCV(cv=6,scoring accuracy,random_state=0,n_jobs=-1,verbose=3,max_iter=500)\n",
    "clf.fit(x_train,y_train)\n",
    "y_pred=clf.predict(x_test)"
   ]
  },
  {
   "cell_type": "code",
   "execution_count": null,
   "id": "58f2d9fd",
   "metadata": {},
   "outputs": [],
   "source": [
    "from sklearn.metrics import accuracy_score\n",
    "from sklearn.metrics import classification_report\n",
    "\n",
    "ascore=accuracy_score(y_test,y_pred)\n",
    "cr=classification_report(y_test,y_pred)\n",
    "\n",
    "print(f\"The Accuracy score of our model is {round(ascore*100)}\")\n",
    "print(\"The classification report of our model is as follows \\n\",cr)"
   ]
  }
 ],
 "metadata": {
  "kernelspec": {
   "display_name": "Python 3 (ipykernel)",
   "language": "python",
   "name": "python3"
  },
  "language_info": {
   "codemirror_mode": {
    "name": "ipython",
    "version": 3
   },
   "file_extension": ".py",
   "mimetype": "text/x-python",
   "name": "python",
   "nbconvert_exporter": "python",
   "pygments_lexer": "ipython3",
   "version": "3.10.0"
  }
 },
 "nbformat": 4,
 "nbformat_minor": 5
}
